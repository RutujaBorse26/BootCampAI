{
 "cells": [
  {
   "cell_type": "markdown",
   "id": "e44b8961-fb59-4b46-a951-c0af6fdfeec4",
   "metadata": {},
   "source": [
    "Write code to find number of rows with missing data in the dataset"
   ]
  },
  {
   "cell_type": "code",
   "execution_count": 4,
   "id": "bfb982e8-dbdd-4feb-a270-7aa8aa3da042",
   "metadata": {},
   "outputs": [
    {
     "name": "stdout",
     "output_type": "stream",
     "text": [
      "Number of rows with missing data: 0\n"
     ]
    }
   ],
   "source": [
    "import pandas as pd\n",
    "std = \"student_performance - student_performance.csv\"\n",
    "df = pd.read_csv(std)\n",
    "missing_rows_count = df.isnull().any(axis=1).sum()\n",
    "\n",
    "print(f\"Number of rows with missing data: {missing_rows_count}\")"
   ]
  }
 ],
 "metadata": {
  "kernelspec": {
   "display_name": "Python [conda env:base] *",
   "language": "python",
   "name": "conda-base-py"
  },
  "language_info": {
   "codemirror_mode": {
    "name": "ipython",
    "version": 3
   },
   "file_extension": ".py",
   "mimetype": "text/x-python",
   "name": "python",
   "nbconvert_exporter": "python",
   "pygments_lexer": "ipython3",
   "version": "3.12.7"
  }
 },
 "nbformat": 4,
 "nbformat_minor": 5
}
