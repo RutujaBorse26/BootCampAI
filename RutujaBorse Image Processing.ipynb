{
 "cells": [
  {
   "cell_type": "code",
   "execution_count": 1,
   "id": "d472f433-3702-4893-a29a-eb31ade7c318",
   "metadata": {},
   "outputs": [
    {
     "name": "stdout",
     "output_type": "stream",
     "text": [
      "Requirement already satisfied: opencv-python in c:\\users\\rutuja\\anaconda3\\lib\\site-packages (4.11.0.86)\n",
      "Requirement already satisfied: numpy>=1.21.2 in c:\\users\\rutuja\\anaconda3\\lib\\site-packages (from opencv-python) (1.26.4)\n",
      "Note: you may need to restart the kernel to use updated packages.\n"
     ]
    }
   ],
   "source": [
    "pip install opencv-python"
   ]
  },
  {
   "cell_type": "code",
   "execution_count": 2,
   "id": "beae1227-c109-427c-8a8e-0979c0d23acf",
   "metadata": {},
   "outputs": [],
   "source": [
    "import cv2\n",
    "import numpy as np\n",
    "import matplotlib.pyplot as plt"
   ]
  },
  {
   "cell_type": "code",
   "execution_count": 11,
   "id": "01d02b2e-3c5a-4339-a9b1-2c4d387bdd59",
   "metadata": {},
   "outputs": [],
   "source": [
    "img = cv2.imread(r\"Screenshot (9).png\")"
   ]
  },
  {
   "cell_type": "code",
   "execution_count": 13,
   "id": "c62bc119-72f7-4fd7-81e2-63bdf30b311f",
   "metadata": {},
   "outputs": [
    {
     "name": "stdout",
     "output_type": "stream",
     "text": [
      "[[[249 243 240]\n",
      "  [249 243 240]\n",
      "  [249 243 240]\n",
      "  ...\n",
      "  [249 244 240]\n",
      "  [249 244 240]\n",
      "  [249 244 240]]\n",
      "\n",
      " [[249 243 240]\n",
      "  [249 243 240]\n",
      "  [249 243 240]\n",
      "  ...\n",
      "  [249 244 240]\n",
      "  [249 244 240]\n",
      "  [249 244 240]]\n",
      "\n",
      " [[249 243 240]\n",
      "  [249 243 240]\n",
      "  [249 243 240]\n",
      "  ...\n",
      "  [249 244 240]\n",
      "  [249 244 240]\n",
      "  [249 244 240]]\n",
      "\n",
      " ...\n",
      "\n",
      " [[ 44  34  29]\n",
      "  [ 44  34  29]\n",
      "  [ 45  35  30]\n",
      "  ...\n",
      "  [ 41  34  30]\n",
      "  [ 39  32  28]\n",
      "  [ 39  32  28]]\n",
      "\n",
      " [[ 45  35  30]\n",
      "  [ 42  32  27]\n",
      "  [ 43  33  28]\n",
      "  ...\n",
      "  [ 40  33  29]\n",
      "  [ 40  33  29]\n",
      "  [ 41  34  30]]\n",
      "\n",
      " [[ 44  34  29]\n",
      "  [ 45  35  30]\n",
      "  [ 44  34  29]\n",
      "  ...\n",
      "  [ 42  35  31]\n",
      "  [ 41  34  30]\n",
      "  [ 40  33  29]]]\n"
     ]
    }
   ],
   "source": [
    "print(img)"
   ]
  },
  {
   "cell_type": "code",
   "execution_count": 15,
   "id": "e1ba1fc1-fa12-4e51-91f4-aca16d787898",
   "metadata": {},
   "outputs": [
    {
     "name": "stdout",
     "output_type": "stream",
     "text": [
      "<class 'numpy.ndarray'>\n"
     ]
    }
   ],
   "source": [
    "print(type(img))"
   ]
  },
  {
   "cell_type": "code",
   "execution_count": 17,
   "id": "dbbf9b2b-4e05-46c5-bb8a-d194ed4353ea",
   "metadata": {},
   "outputs": [],
   "source": [
    "cv2.imshow(\"imgg\",img)\n",
    "cv2.waitKey(0)\n",
    "cv2.destroyAllWindows()"
   ]
  },
  {
   "cell_type": "code",
   "execution_count": 19,
   "id": "c2d8f34f-1205-4605-a084-5c4f56783d8c",
   "metadata": {},
   "outputs": [
    {
     "name": "stdout",
     "output_type": "stream",
     "text": [
      "(1080, 1920, 3)\n"
     ]
    }
   ],
   "source": [
    "print(img.shape)"
   ]
  },
  {
   "cell_type": "code",
   "execution_count": 21,
   "id": "d7dfaf7d-df1f-4ad2-abe1-f848fa0612bb",
   "metadata": {},
   "outputs": [],
   "source": [
    "img_resize = cv2.resize(img,(203,300))"
   ]
  },
  {
   "cell_type": "code",
   "execution_count": 23,
   "id": "6ceb884d-dfad-40c9-8122-b37a48c51bf5",
   "metadata": {},
   "outputs": [
    {
     "data": {
      "text/plain": [
       "array([[[249, 243, 240],\n",
       "        [249, 243, 240],\n",
       "        [249, 243, 240],\n",
       "        ...,\n",
       "        [249, 244, 240],\n",
       "        [249, 244, 240],\n",
       "        [249, 244, 240]],\n",
       "\n",
       "       [[145,  94,  94],\n",
       "        [156, 110, 110],\n",
       "        [249, 243, 240],\n",
       "        ...,\n",
       "        [249, 244, 240],\n",
       "        [249, 244, 240],\n",
       "        [249, 244, 240]],\n",
       "\n",
       "       [[214, 204, 204],\n",
       "        [207, 199, 198],\n",
       "        [249, 243, 240],\n",
       "        ...,\n",
       "        [249, 244, 240],\n",
       "        [249, 244, 240],\n",
       "        [249, 244, 240]],\n",
       "\n",
       "       ...,\n",
       "\n",
       "       [[ 43,  33,  28],\n",
       "        [ 43,  33,  28],\n",
       "        [ 44,  34,  29],\n",
       "        ...,\n",
       "        [ 41,  34,  30],\n",
       "        [ 40,  33,  29],\n",
       "        [ 41,  34,  30]],\n",
       "\n",
       "       [[ 42,  32,  27],\n",
       "        [ 43,  33,  28],\n",
       "        [ 43,  33,  28],\n",
       "        ...,\n",
       "        [ 39,  32,  29],\n",
       "        [ 41,  34,  30],\n",
       "        [ 41,  34,  30]],\n",
       "\n",
       "       [[ 42,  32,  27],\n",
       "        [ 45,  35,  30],\n",
       "        [ 43,  33,  28],\n",
       "        ...,\n",
       "        [ 41,  34,  30],\n",
       "        [ 40,  33,  29],\n",
       "        [ 40,  33,  29]]], dtype=uint8)"
      ]
     },
     "execution_count": 23,
     "metadata": {},
     "output_type": "execute_result"
    }
   ],
   "source": [
    "img_resize"
   ]
  },
  {
   "cell_type": "code",
   "execution_count": 25,
   "id": "1b5c7551-3bae-4550-bbee-2905399103a0",
   "metadata": {},
   "outputs": [],
   "source": [
    "cv2.imshow(\"manya\",img_resize)\n",
    "cv2.waitKey(0)\n",
    "cv2.destroyAllWindows()"
   ]
  },
  {
   "cell_type": "code",
   "execution_count": 29,
   "id": "8e4d3199-3583-4944-a607-e314dd9b1d2b",
   "metadata": {},
   "outputs": [
    {
     "name": "stdout",
     "output_type": "stream",
     "text": [
      "(300, 203, 3)\n"
     ]
    }
   ],
   "source": [
    "print(img_resize.shape)"
   ]
  },
  {
   "cell_type": "code",
   "execution_count": 31,
   "id": "80a6e939-6f14-4b5b-b575-2d7a4e5e012e",
   "metadata": {},
   "outputs": [],
   "source": [
    "img_flip = cv2.flip(img,1)"
   ]
  },
  {
   "cell_type": "code",
   "execution_count": 33,
   "id": "56b8999d-6d1d-41a7-a9b4-b91ca22cc586",
   "metadata": {},
   "outputs": [],
   "source": [
    "cv2.imshow(\"flipped Image\",img_flip)\n",
    "cv2.waitKey(0)\n",
    "cv2.destroyAllWindows()"
   ]
  },
  {
   "cell_type": "code",
   "execution_count": 35,
   "id": "84435ce4-253a-424d-96de-7ff4a90fc4ec",
   "metadata": {},
   "outputs": [],
   "source": [
    "img_crop = img[100:300,200:500]"
   ]
  },
  {
   "cell_type": "code",
   "execution_count": 37,
   "id": "c0665993-1435-47bc-affb-f9095583661d",
   "metadata": {},
   "outputs": [],
   "source": [
    "cv2.imshow(\"Cropped Image\",img_crop)\n",
    "cv2.waitKey(0)\n",
    "cv2.destroyAllWindows()"
   ]
  },
  {
   "cell_type": "code",
   "execution_count": 39,
   "id": "12aaed8e-cb9c-4561-b250-fbd8da8622ab",
   "metadata": {},
   "outputs": [
    {
     "data": {
      "text/plain": [
       "True"
      ]
     },
     "execution_count": 39,
     "metadata": {},
     "output_type": "execute_result"
    }
   ],
   "source": [
    "cv2.imwrite(r\"croppedImg16.jpg\",img_crop)"
   ]
  },
  {
   "cell_type": "code",
   "execution_count": null,
   "id": "c8072356-ac0d-4bd0-8901-f05fa533f404",
   "metadata": {},
   "outputs": [],
   "source": []
  }
 ],
 "metadata": {
  "kernelspec": {
   "display_name": "Python [conda env:base] *",
   "language": "python",
   "name": "conda-base-py"
  },
  "language_info": {
   "codemirror_mode": {
    "name": "ipython",
    "version": 3
   },
   "file_extension": ".py",
   "mimetype": "text/x-python",
   "name": "python",
   "nbconvert_exporter": "python",
   "pygments_lexer": "ipython3",
   "version": "3.12.7"
  }
 },
 "nbformat": 4,
 "nbformat_minor": 5
}
