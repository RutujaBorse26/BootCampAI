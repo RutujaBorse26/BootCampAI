{
 "cells": [
  {
   "cell_type": "code",
   "execution_count": 9,
   "id": "11a6e6e2-d884-4445-9ec7-c837d6fb1f05",
   "metadata": {},
   "outputs": [
    {
     "name": "stdout",
     "output_type": "stream",
     "text": [
      "My name is ruuuu\n",
      "uuuur si eman yM\n"
     ]
    }
   ],
   "source": [
    "#this is the program for to print string in reverse order\n",
    "\n",
    "str = \"My name is ruuuu\"\n",
    "print (str)\n",
    "rev_str = str [::-1]\n",
    "print (rev_str)"
   ]
  },
  {
   "cell_type": "code",
   "execution_count": 37,
   "id": "ee60b0c9-f001-41f8-86f5-df8ed5374d45",
   "metadata": {},
   "outputs": [
    {
     "name": "stdout",
     "output_type": "stream",
     "text": [
      "Random Numbers: [18, 46, 70, 45, 87, 50, 88, 19, 13, 13, 24, 63, 42, 42, 34, 77, 77, 49, 16, 98]\n",
      "even Numbers: [18, 46, 70, 50, 88, 24, 42, 42, 34, 16, 98]\n"
     ]
    }
   ],
   "source": [
    "#this is program for to pick random number and even numbers\n",
    "import random\n",
    "random_numbers = [random.randint (1, 100) for _ in range (20)]\n",
    "print (\"Random Numbers:\", random_numbers)\n",
    "even_numbers = [num for num in random_numbers if num % 2==0]\n",
    "print (\"even Numbers:\", even_numbers)"
   ]
  },
  {
   "cell_type": "code",
   "execution_count": null,
   "id": "aebc39a2-2851-4469-997d-120701d69ddc",
   "metadata": {},
   "outputs": [],
   "source": []
  }
 ],
 "metadata": {
  "kernelspec": {
   "display_name": "Python [conda env:base] *",
   "language": "python",
   "name": "conda-base-py"
  },
  "language_info": {
   "codemirror_mode": {
    "name": "ipython",
    "version": 3
   },
   "file_extension": ".py",
   "mimetype": "text/x-python",
   "name": "python",
   "nbconvert_exporter": "python",
   "pygments_lexer": "ipython3",
   "version": "3.12.7"
  }
 },
 "nbformat": 4,
 "nbformat_minor": 5
}
