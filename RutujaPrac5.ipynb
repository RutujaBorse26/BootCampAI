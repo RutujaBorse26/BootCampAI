{
 "cells": [
  {
   "cell_type": "markdown",
   "id": "5e2e5520-297b-4f4a-9d9e-94ace3a4200a",
   "metadata": {},
   "source": [
    "Write code to filter players who have scored more than 500 runs"
   ]
  },
  {
   "cell_type": "code",
   "execution_count": 3,
   "id": "f6350dee-03fb-4e15-bba7-f9392d6c49b8",
   "metadata": {},
   "outputs": [
    {
     "name": "stdout",
     "output_type": "stream",
     "text": [
      "Empty DataFrame\n",
      "Columns: [match_id, inning, batting_team, bowling_team, over, ball, batter, bowler, non_striker, batsman_runs, extra_runs, total_runs, extras_type, is_wicket, player_dismissed, dismissal_kind, fielder]\n",
      "Index: []\n"
     ]
    }
   ],
   "source": [
    "import pandas as pd  \n",
    "data= \"ipl_matches_smalldata.csv\"  \n",
    "df = pd.read_csv(data)  \n",
    "players_above_500 = df[df['total_runs'] > 500] \n",
    "\n",
    "print(players_above_500)"
   ]
  },
  {
   "cell_type": "code",
   "execution_count": null,
   "id": "2a0264b2-c8d3-49f2-9723-4f5482b86b0e",
   "metadata": {},
   "outputs": [],
   "source": []
  }
 ],
 "metadata": {
  "kernelspec": {
   "display_name": "Python [conda env:base] *",
   "language": "python",
   "name": "conda-base-py"
  },
  "language_info": {
   "codemirror_mode": {
    "name": "ipython",
    "version": 3
   },
   "file_extension": ".py",
   "mimetype": "text/x-python",
   "name": "python",
   "nbconvert_exporter": "python",
   "pygments_lexer": "ipython3",
   "version": "3.12.7"
  }
 },
 "nbformat": 4,
 "nbformat_minor": 5
}
