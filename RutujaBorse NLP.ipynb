{
 "cells": [
  {
   "cell_type": "code",
   "execution_count": 3,
   "id": "de29d912-3149-4a16-a6fb-6530e0c80179",
   "metadata": {},
   "outputs": [
    {
     "name": "stdout",
     "output_type": "stream",
     "text": [
      "Requirement already satisfied: nltk in c:\\users\\rutuja\\anaconda3\\lib\\site-packages (3.9.1)\n",
      "Requirement already satisfied: click in c:\\users\\rutuja\\anaconda3\\lib\\site-packages (from nltk) (8.1.7)\n",
      "Requirement already satisfied: joblib in c:\\users\\rutuja\\anaconda3\\lib\\site-packages (from nltk) (1.4.2)\n",
      "Requirement already satisfied: regex>=2021.8.3 in c:\\users\\rutuja\\anaconda3\\lib\\site-packages (from nltk) (2024.9.11)\n",
      "Requirement already satisfied: tqdm in c:\\users\\rutuja\\anaconda3\\lib\\site-packages (from nltk) (4.66.5)\n",
      "Requirement already satisfied: colorama in c:\\users\\rutuja\\anaconda3\\lib\\site-packages (from click->nltk) (0.4.6)\n",
      "Note: you may need to restart the kernel to use updated packages.\n"
     ]
    }
   ],
   "source": [
    "pip install nltk"
   ]
  },
  {
   "cell_type": "code",
   "execution_count": 5,
   "id": "b6380d95-7621-4fbc-86aa-48e6888f6da6",
   "metadata": {},
   "outputs": [],
   "source": [
    "import nltk\n",
    "from nltk.tokenize import sent_tokenize, word_tokenize\n",
    "from nltk.corpus import stopwords\n",
    "from nltk.stem import PorterStemmer\n",
    "from nltk.stem import WordNetLemmatizer\n",
    "from nltk import pos_tag"
   ]
  },
  {
   "cell_type": "code",
   "execution_count": 7,
   "id": "b4003c23-c7e3-429a-bd51-44ee1877ce03",
   "metadata": {},
   "outputs": [
    {
     "name": "stderr",
     "output_type": "stream",
     "text": [
      "[nltk_data] Downloading package punkt to\n",
      "[nltk_data]     C:\\Users\\RUTUJA\\AppData\\Roaming\\nltk_data...\n",
      "[nltk_data]   Unzipping tokenizers\\punkt.zip.\n",
      "[nltk_data] Downloading package stopwords to\n",
      "[nltk_data]     C:\\Users\\RUTUJA\\AppData\\Roaming\\nltk_data...\n",
      "[nltk_data]   Unzipping corpora\\stopwords.zip.\n",
      "[nltk_data] Downloading package wordnet to\n",
      "[nltk_data]     C:\\Users\\RUTUJA\\AppData\\Roaming\\nltk_data...\n",
      "[nltk_data] Downloading package averaged_perceptron_tagger to\n",
      "[nltk_data]     C:\\Users\\RUTUJA\\AppData\\Roaming\\nltk_data...\n",
      "[nltk_data]   Unzipping taggers\\averaged_perceptron_tagger.zip.\n",
      "[nltk_data] Downloading package punkt_tab to\n",
      "[nltk_data]     C:\\Users\\RUTUJA\\AppData\\Roaming\\nltk_data...\n",
      "[nltk_data]   Unzipping tokenizers\\punkt_tab.zip.\n",
      "[nltk_data] Downloading package averaged_perceptron_tagger_eng to\n",
      "[nltk_data]     C:\\Users\\RUTUJA\\AppData\\Roaming\\nltk_data...\n",
      "[nltk_data]   Unzipping taggers\\averaged_perceptron_tagger_eng.zip.\n"
     ]
    },
    {
     "data": {
      "text/plain": [
       "True"
      ]
     },
     "execution_count": 7,
     "metadata": {},
     "output_type": "execute_result"
    }
   ],
   "source": [
    "# Ensure you have the required NLTK data packages\n",
    "nltk.download('punkt')\n",
    "nltk.download('stopwords')\n",
    "nltk.download('wordnet')\n",
    "nltk.download('averaged_perceptron_tagger')\n",
    "nltk.download('punkt_tab')\n",
    "nltk.download('averaged_perceptron_tagger_eng')"
   ]
  },
  {
   "cell_type": "code",
   "execution_count": 32,
   "id": "7b437583-6f8c-478d-a30a-af7d7cc24759",
   "metadata": {},
   "outputs": [
    {
     "data": {
      "text/plain": [
       "'Drawing is one of the oldest forms of artistic expression, dating back to prehistoric cave paintings. It serves as the foundation for many other art forms, including painting, sculpture, and digital design. Artists use various tools such as pencils, charcoal, and ink to create different effects and textures.\\n\\nOne of the fundamental aspects of drawing is understanding shapes and proportions. Beginners often start with basic geometric forms before advancing to more complex subjects like human anatomy and landscapes. Shading techniques, such as hatching and cross-hatching, help bring depth and realism to a drawing.'"
      ]
     },
     "execution_count": 32,
     "metadata": {},
     "output_type": "execute_result"
    }
   ],
   "source": [
    "photography = \"\"\"Drawing is one of the oldest forms of artistic expression, dating back to prehistoric cave paintings. It serves as the foundation for many other art forms, including painting, sculpture, and digital design. Artists use various tools such as pencils, charcoal, and ink to create different effects and textures.\n",
    "\n",
    "One of the fundamental aspects of drawing is understanding shapes and proportions. Beginners often start with basic geometric forms before advancing to more complex subjects like human anatomy and landscapes. Shading techniques, such as hatching and cross-hatching, help bring depth and realism to a drawing.\"\"\"\n",
    "photography"
   ]
  },
  {
   "cell_type": "code",
   "execution_count": 34,
   "id": "68efcf45-cc73-4a74-b518-3f4baafeb5c0",
   "metadata": {},
   "outputs": [
    {
     "name": "stdout",
     "output_type": "stream",
     "text": [
      "Sentences: ['Drawing is one of the oldest forms of artistic expression, dating back to prehistoric cave paintings.', 'It serves as the foundation for many other art forms, including painting, sculpture, and digital design.', 'Artists use various tools such as pencils, charcoal, and ink to create different effects and textures.', 'One of the fundamental aspects of drawing is understanding shapes and proportions.', 'Beginners often start with basic geometric forms before advancing to more complex subjects like human anatomy and landscapes.', 'Shading techniques, such as hatching and cross-hatching, help bring depth and realism to a drawing.']\n"
     ]
    }
   ],
   "source": [
    "# 1. Break the text into sentences and words\n",
    "sentences = sent_tokenize(photography)\n",
    "print(\"Sentences:\", sentences)"
   ]
  },
  {
   "cell_type": "code",
   "execution_count": 36,
   "id": "07ae34f5-4c2c-49dc-884e-7b88773ca8a4",
   "metadata": {},
   "outputs": [
    {
     "name": "stdout",
     "output_type": "stream",
     "text": [
      "Words: ['Drawing', 'is', 'one', 'of', 'the', 'oldest', 'forms', 'of', 'artistic', 'expression', ',', 'dating', 'back', 'to', 'prehistoric', 'cave', 'paintings', '.', 'It', 'serves', 'as', 'the', 'foundation', 'for', 'many', 'other', 'art', 'forms', ',', 'including', 'painting', ',', 'sculpture', ',', 'and', 'digital', 'design', '.', 'Artists', 'use', 'various', 'tools', 'such', 'as', 'pencils', ',', 'charcoal', ',', 'and', 'ink', 'to', 'create', 'different', 'effects', 'and', 'textures', '.', 'One', 'of', 'the', 'fundamental', 'aspects', 'of', 'drawing', 'is', 'understanding', 'shapes', 'and', 'proportions', '.', 'Beginners', 'often', 'start', 'with', 'basic', 'geometric', 'forms', 'before', 'advancing', 'to', 'more', 'complex', 'subjects', 'like', 'human', 'anatomy', 'and', 'landscapes', '.', 'Shading', 'techniques', ',', 'such', 'as', 'hatching', 'and', 'cross-hatching', ',', 'help', 'bring', 'depth', 'and', 'realism', 'to', 'a', 'drawing', '.']\n"
     ]
    }
   ],
   "source": [
    "words = word_tokenize(photography)\n",
    "print(\"Words:\", words)"
   ]
  },
  {
   "cell_type": "code",
   "execution_count": 38,
   "id": "0cb32de7-ac09-4e3f-bc30-c1d8d639f252",
   "metadata": {},
   "outputs": [],
   "source": [
    "# 2. Remove common words (stop words)\n",
    "stop_words = set(stopwords.words('english'))\n",
    "filtered_words = [word for word in words if word.isalpha() and word not in stop_words]"
   ]
  },
  {
   "cell_type": "code",
   "execution_count": 40,
   "id": "41a66d99-2e36-48f5-ad20-8483ed36fd1f",
   "metadata": {},
   "outputs": [
    {
     "name": "stdout",
     "output_type": "stream",
     "text": [
      "Filtered Words: ['Drawing', 'one', 'oldest', 'forms', 'artistic', 'expression', 'dating', 'back', 'prehistoric', 'cave', 'paintings', 'It', 'serves', 'foundation', 'many', 'art', 'forms', 'including', 'painting', 'sculpture', 'digital', 'design', 'Artists', 'use', 'various', 'tools', 'pencils', 'charcoal', 'ink', 'create', 'different', 'effects', 'textures', 'One', 'fundamental', 'aspects', 'drawing', 'understanding', 'shapes', 'proportions', 'Beginners', 'often', 'start', 'basic', 'geometric', 'forms', 'advancing', 'complex', 'subjects', 'like', 'human', 'anatomy', 'landscapes', 'Shading', 'techniques', 'hatching', 'help', 'bring', 'depth', 'realism', 'drawing']\n"
     ]
    }
   ],
   "source": [
    "# The general syntax for a list comprehension is: [expression for item in iterable if condition]\n",
    "print(\"Filtered Words:\", filtered_words)"
   ]
  },
  {
   "cell_type": "code",
   "execution_count": 42,
   "id": "8cb4ab9b-8336-4ff9-91f8-76201e0c8d29",
   "metadata": {},
   "outputs": [
    {
     "name": "stdout",
     "output_type": "stream",
     "text": [
      "Stemmed Words: ['draw', 'one', 'oldest', 'form', 'artist', 'express', 'date', 'back', 'prehistor', 'cave', 'paint', 'it', 'serv', 'foundat', 'mani', 'art', 'form', 'includ', 'paint', 'sculptur', 'digit', 'design', 'artist', 'use', 'variou', 'tool', 'pencil', 'charcoal', 'ink', 'creat', 'differ', 'effect', 'textur', 'one', 'fundament', 'aspect', 'draw', 'understand', 'shape', 'proport', 'beginn', 'often', 'start', 'basic', 'geometr', 'form', 'advanc', 'complex', 'subject', 'like', 'human', 'anatomi', 'landscap', 'shade', 'techniqu', 'hatch', 'help', 'bring', 'depth', 'realism', 'draw']\n"
     ]
    }
   ],
   "source": [
    "# 3. Reduce words to their base form using stemming\n",
    "stemmer = PorterStemmer()\n",
    "stemmed_words = [stemmer.stem(word) for word in filtered_words]\n",
    "\n",
    "print(\"Stemmed Words:\", stemmed_words)"
   ]
  },
  {
   "cell_type": "code",
   "execution_count": 44,
   "id": "aa20f600-f1ca-4164-9cdd-97e677a1c7ac",
   "metadata": {},
   "outputs": [
    {
     "name": "stdout",
     "output_type": "stream",
     "text": [
      "Lemmatized Words: ['Drawing', 'one', 'oldest', 'form', 'artistic', 'expression', 'dating', 'back', 'prehistoric', 'cave', 'painting', 'It', 'serf', 'foundation', 'many', 'art', 'form', 'including', 'painting', 'sculpture', 'digital', 'design', 'Artists', 'use', 'various', 'tool', 'pencil', 'charcoal', 'ink', 'create', 'different', 'effect', 'texture', 'One', 'fundamental', 'aspect', 'drawing', 'understanding', 'shape', 'proportion', 'Beginners', 'often', 'start', 'basic', 'geometric', 'form', 'advancing', 'complex', 'subject', 'like', 'human', 'anatomy', 'landscape', 'Shading', 'technique', 'hatching', 'help', 'bring', 'depth', 'realism', 'drawing']\n"
     ]
    }
   ],
   "source": [
    "# 4. Perform lemmatization\n",
    "lemmatizer = WordNetLemmatizer()\n",
    "lemmatized_words = [lemmatizer.lemmatize(word) for word in filtered_words]\n",
    "\n",
    "print(\"Lemmatized Words:\", lemmatized_words)"
   ]
  },
  {
   "cell_type": "code",
   "execution_count": null,
   "id": "4e71e482-da2f-4593-9ef9-24901d2dfb29",
   "metadata": {},
   "outputs": [],
   "source": []
  }
 ],
 "metadata": {
  "kernelspec": {
   "display_name": "Python [conda env:base] *",
   "language": "python",
   "name": "conda-base-py"
  },
  "language_info": {
   "codemirror_mode": {
    "name": "ipython",
    "version": 3
   },
   "file_extension": ".py",
   "mimetype": "text/x-python",
   "name": "python",
   "nbconvert_exporter": "python",
   "pygments_lexer": "ipython3",
   "version": "3.12.7"
  }
 },
 "nbformat": 4,
 "nbformat_minor": 5
}
