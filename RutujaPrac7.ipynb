{
 "cells": [
  {
   "cell_type": "markdown",
   "id": "412823ab-f289-4987-8161-5ce4fdc5a653",
   "metadata": {},
   "source": [
    "Write a Python program using OpenCV functions to\n",
    "1. read an image from a file and display it using OpenCV.\n",
    "2. Find the shape (dimensions) of the image.\n",
    "3. Resize the image to dimensions of 400x256 pixels.\n",
    "4. Display the resized image.\n",
    "5. Flip the image horizontally and vertically"
   ]
  },
  {
   "cell_type": "code",
   "execution_count": 1,
   "id": "7803d033-808e-4dfe-9a04-28fc31b9e0d1",
   "metadata": {},
   "outputs": [],
   "source": [
    "import cv2\n",
    "import numpy as np\n",
    "import matplotlib.pyplot as plt"
   ]
  },
  {
   "cell_type": "code",
   "execution_count": 2,
   "id": "b92982dc-018a-42e4-bfd0-5e97a7456dc6",
   "metadata": {},
   "outputs": [
    {
     "name": "stdout",
     "output_type": "stream",
     "text": [
      "<class 'numpy.ndarray'>\n"
     ]
    }
   ],
   "source": [
    "img = cv2.imread(r\"Code.jpg\")\n",
    "print(type(img))"
   ]
  },
  {
   "cell_type": "code",
   "execution_count": 3,
   "id": "682785cc-35c9-42f9-a104-19a02968309b",
   "metadata": {},
   "outputs": [
    {
     "name": "stdout",
     "output_type": "stream",
     "text": [
      "(180, 320, 3)\n"
     ]
    }
   ],
   "source": [
    "cv2.imshow(\"bootcamp\",img)\n",
    "cv2.waitKey(0)\n",
    "cv2.destroyAllWindows()\n",
    "print(img.shape)"
   ]
  },
  {
   "cell_type": "code",
   "execution_count": 7,
   "id": "7ea5d484-7562-4222-9593-ed2514fa782c",
   "metadata": {},
   "outputs": [
    {
     "name": "stdout",
     "output_type": "stream",
     "text": [
      "(300, 203, 3)\n"
     ]
    }
   ],
   "source": [
    "img_resize = cv2.resize(img,(203,300))\n",
    "cv2.imshow(\"manya\",img_resize)\n",
    "cv2.waitKey(0)\n",
    "cv2.destroyAllWindows()\n",
    "print(img_resize.shape)"
   ]
  },
  {
   "cell_type": "code",
   "execution_count": 9,
   "id": "c040cb8d-b1bc-4f4c-888f-3a816ed1a4f3",
   "metadata": {},
   "outputs": [],
   "source": [
    "img_flip = cv2.flip(img,1)\n",
    "cv2.imshow(\"flipped Image\",img_flip)\n",
    "cv2.waitKey(0)\n",
    "cv2.destroyAllWindows()"
   ]
  },
  {
   "cell_type": "code",
   "execution_count": 11,
   "id": "d62a88cb-6184-45fa-bb68-6bd78e5e9f4a",
   "metadata": {},
   "outputs": [],
   "source": [
    "img_crop = img[100:300,200:500]\n",
    "cv2.imshow(\"Cropped Image\",img_crop)\n",
    "cv2.waitKey(0)\n",
    "cv2.destroyAllWindows()"
   ]
  },
  {
   "cell_type": "code",
   "execution_count": 13,
   "id": "7ab60ca3-97ad-4d1a-81e6-20015b71b299",
   "metadata": {},
   "outputs": [
    {
     "data": {
      "text/plain": [
       "True"
      ]
     },
     "execution_count": 13,
     "metadata": {},
     "output_type": "execute_result"
    }
   ],
   "source": [
    "cv2.imwrite(r\"croppedImg16.jpg\",img_crop)"
   ]
  },
  {
   "cell_type": "code",
   "execution_count": null,
   "id": "cc7c13f5-65f6-4a91-8fdb-14d104d32aa0",
   "metadata": {},
   "outputs": [],
   "source": []
  }
 ],
 "metadata": {
  "kernelspec": {
   "display_name": "Python [conda env:base] *",
   "language": "python",
   "name": "conda-base-py"
  },
  "language_info": {
   "codemirror_mode": {
    "name": "ipython",
    "version": 3
   },
   "file_extension": ".py",
   "mimetype": "text/x-python",
   "name": "python",
   "nbconvert_exporter": "python",
   "pygments_lexer": "ipython3",
   "version": "3.12.7"
  }
 },
 "nbformat": 4,
 "nbformat_minor": 5
}
